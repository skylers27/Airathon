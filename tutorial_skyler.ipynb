{
 "cells": [
  {
   "cell_type": "code",
   "execution_count": 1,
   "id": "3df4d238",
   "metadata": {},
   "outputs": [
    {
     "name": "stderr",
     "output_type": "stream",
     "text": [
      "C:\\Users\\Skyler\\anaconda3\\envs\\nasa\\lib\\site-packages\\pyproj\\__init__.py:89: UserWarning: pyproj unable to set database path.\n",
      "  _pyproj_global_context_initialize()\n"
     ]
    },
    {
     "name": "stdout",
     "output_type": "stream",
     "text": [
      "C:\\Users\\Skyler\\data\n",
      "C:\\Users\\Skyler\\data\\raw\n",
      "C:\\Users\\Skyler\\data\\interim\n"
     ]
    }
   ],
   "source": [
    "from pathlib import Path\n",
    "import random\n",
    "from typing import Dict, List, Union\n",
    "\n",
    "from cloudpathlib import S3Path\n",
    "import geopandas as gpd\n",
    "import pandas as pd\n",
    "import rasterio\n",
    "\n",
    "#MAIAC imports\n",
    "import os\n",
    "import re\n",
    "\n",
    "import numpy as np\n",
    "import matplotlib as mpl\n",
    "import matplotlib.pyplot as plt\n",
    "from pyhdf.SD import SD, SDC, SDS\n",
    "import pyproj\n",
    "\n",
    "mpl.rcParams['figure.dpi'] = 100\n",
    "\n",
    "DATA_PATH = Path.cwd() / \"data\"\n",
    "RAW = DATA_PATH / \"raw\"\n",
    "INTERIM = DATA_PATH / \"interim\"\n",
    "\n",
    "print(DATA_PATH)\n",
    "print(RAW)\n",
    "print(INTERIM)"
   ]
  },
  {
   "cell_type": "code",
   "execution_count": 2,
   "id": "2de7059b",
   "metadata": {},
   "outputs": [
    {
     "name": "stdout",
     "output_type": "stream",
     "text": [
      "                                              time_start  \\\n",
      "granule_id                                                 \n",
      "20180201T191000_maiac_la_0.hdf 2018-02-01 17:25:00+00:00   \n",
      "20180202T195000_maiac_la_0.hdf 2018-02-02 18:05:00+00:00   \n",
      "20180203T203000_maiac_la_0.hdf 2018-02-03 17:10:00+00:00   \n",
      "20180204T194000_maiac_la_0.hdf 2018-02-04 17:55:00+00:00   \n",
      "20180205T202000_maiac_la_0.hdf 2018-02-05 17:00:00+00:00   \n",
      "...                                                  ...   \n",
      "20210721T060842_misr_dl_0.nc   2021-07-21 05:11:48+00:00   \n",
      "20210730T060258_misr_dl_0.nc   2021-07-30 05:11:45+00:00   \n",
      "20210806T060933_misr_dl_0.nc   2021-08-06 05:18:20+00:00   \n",
      "20210815T060400_misr_dl_0.nc   2021-08-15 05:12:45+00:00   \n",
      "20210822T061044_misr_dl_0.nc   2021-08-22 05:19:30+00:00   \n",
      "\n",
      "                                                time_end product location  \\\n",
      "granule_id                                                                  \n",
      "20180201T191000_maiac_la_0.hdf 2018-02-01 19:10:00+00:00   maiac       la   \n",
      "20180202T195000_maiac_la_0.hdf 2018-02-02 19:50:00+00:00   maiac       la   \n",
      "20180203T203000_maiac_la_0.hdf 2018-02-03 20:30:00+00:00   maiac       la   \n",
      "20180204T194000_maiac_la_0.hdf 2018-02-04 19:40:00+00:00   maiac       la   \n",
      "20180205T202000_maiac_la_0.hdf 2018-02-05 20:20:00+00:00   maiac       la   \n",
      "...                                                  ...     ...      ...   \n",
      "20210721T060842_misr_dl_0.nc   2021-07-21 06:08:42+00:00    misr       dl   \n",
      "20210730T060258_misr_dl_0.nc   2021-07-30 06:02:58+00:00    misr       dl   \n",
      "20210806T060933_misr_dl_0.nc   2021-08-06 06:09:33+00:00    misr       dl   \n",
      "20210815T060400_misr_dl_0.nc   2021-08-15 06:04:00+00:00    misr       dl   \n",
      "20210822T061044_misr_dl_0.nc   2021-08-22 06:10:44+00:00    misr       dl   \n",
      "\n",
      "                                split  \\\n",
      "granule_id                              \n",
      "20180201T191000_maiac_la_0.hdf  train   \n",
      "20180202T195000_maiac_la_0.hdf  train   \n",
      "20180203T203000_maiac_la_0.hdf  train   \n",
      "20180204T194000_maiac_la_0.hdf  train   \n",
      "20180205T202000_maiac_la_0.hdf  train   \n",
      "...                               ...   \n",
      "20210721T060842_misr_dl_0.nc     test   \n",
      "20210730T060258_misr_dl_0.nc     test   \n",
      "20210806T060933_misr_dl_0.nc     test   \n",
      "20210815T060400_misr_dl_0.nc     test   \n",
      "20210822T061044_misr_dl_0.nc     test   \n",
      "\n",
      "                                                                           us_url  \\\n",
      "granule_id                                                                          \n",
      "20180201T191000_maiac_la_0.hdf  s3://drivendata-competition-airathon-public-us...   \n",
      "20180202T195000_maiac_la_0.hdf  s3://drivendata-competition-airathon-public-us...   \n",
      "20180203T203000_maiac_la_0.hdf  s3://drivendata-competition-airathon-public-us...   \n",
      "20180204T194000_maiac_la_0.hdf  s3://drivendata-competition-airathon-public-us...   \n",
      "20180205T202000_maiac_la_0.hdf  s3://drivendata-competition-airathon-public-us...   \n",
      "...                                                                           ...   \n",
      "20210721T060842_misr_dl_0.nc    s3://drivendata-competition-airathon-public-us...   \n",
      "20210730T060258_misr_dl_0.nc    s3://drivendata-competition-airathon-public-us...   \n",
      "20210806T060933_misr_dl_0.nc    s3://drivendata-competition-airathon-public-us...   \n",
      "20210815T060400_misr_dl_0.nc    s3://drivendata-competition-airathon-public-us...   \n",
      "20210822T061044_misr_dl_0.nc    s3://drivendata-competition-airathon-public-us...   \n",
      "\n",
      "                                                                           eu_url  \\\n",
      "granule_id                                                                          \n",
      "20180201T191000_maiac_la_0.hdf  s3://drivendata-competition-airathon-public-eu...   \n",
      "20180202T195000_maiac_la_0.hdf  s3://drivendata-competition-airathon-public-eu...   \n",
      "20180203T203000_maiac_la_0.hdf  s3://drivendata-competition-airathon-public-eu...   \n",
      "20180204T194000_maiac_la_0.hdf  s3://drivendata-competition-airathon-public-eu...   \n",
      "20180205T202000_maiac_la_0.hdf  s3://drivendata-competition-airathon-public-eu...   \n",
      "...                                                                           ...   \n",
      "20210721T060842_misr_dl_0.nc    s3://drivendata-competition-airathon-public-eu...   \n",
      "20210730T060258_misr_dl_0.nc    s3://drivendata-competition-airathon-public-eu...   \n",
      "20210806T060933_misr_dl_0.nc    s3://drivendata-competition-airathon-public-eu...   \n",
      "20210815T060400_misr_dl_0.nc    s3://drivendata-competition-airathon-public-eu...   \n",
      "20210822T061044_misr_dl_0.nc    s3://drivendata-competition-airathon-public-eu...   \n",
      "\n",
      "                                                                           as_url  \\\n",
      "granule_id                                                                          \n",
      "20180201T191000_maiac_la_0.hdf  s3://drivendata-competition-airathon-public-as...   \n",
      "20180202T195000_maiac_la_0.hdf  s3://drivendata-competition-airathon-public-as...   \n",
      "20180203T203000_maiac_la_0.hdf  s3://drivendata-competition-airathon-public-as...   \n",
      "20180204T194000_maiac_la_0.hdf  s3://drivendata-competition-airathon-public-as...   \n",
      "20180205T202000_maiac_la_0.hdf  s3://drivendata-competition-airathon-public-as...   \n",
      "...                                                                           ...   \n",
      "20210721T060842_misr_dl_0.nc    s3://drivendata-competition-airathon-public-as...   \n",
      "20210730T060258_misr_dl_0.nc    s3://drivendata-competition-airathon-public-as...   \n",
      "20210806T060933_misr_dl_0.nc    s3://drivendata-competition-airathon-public-as...   \n",
      "20210815T060400_misr_dl_0.nc    s3://drivendata-competition-airathon-public-as...   \n",
      "20210822T061044_misr_dl_0.nc    s3://drivendata-competition-airathon-public-as...   \n",
      "\n",
      "                                     cksum  granule_size  \n",
      "granule_id                                                \n",
      "20180201T191000_maiac_la_0.hdf   911405771      10446736  \n",
      "20180202T195000_maiac_la_0.hdf  2244451908      11090180  \n",
      "20180203T203000_maiac_la_0.hdf  3799527997      12468482  \n",
      "20180204T194000_maiac_la_0.hdf  4105997844      13064424  \n",
      "20180205T202000_maiac_la_0.hdf  1805072340      12549313  \n",
      "...                                    ...           ...  \n",
      "20210721T060842_misr_dl_0.nc    3768009907      30790672  \n",
      "20210730T060258_misr_dl_0.nc    2262052656      29487879  \n",
      "20210806T060933_misr_dl_0.nc    4079577923      29589362  \n",
      "20210815T060400_misr_dl_0.nc    2932726739      32837807  \n",
      "20210822T061044_misr_dl_0.nc    4061855472      39000135  \n",
      "\n",
      "[7721 rows x 10 columns]\n",
      "                    location             tz  \\\n",
      "grid_id                                       \n",
      "1X116                 Taipei    Asia/Taipei   \n",
      "1Z2W7                  Delhi  Asia/Calcutta   \n",
      "3S31A    Los Angeles (SoCAB)      Etc/GMT+8   \n",
      "6EIL6                  Delhi  Asia/Calcutta   \n",
      "7334C                  Delhi  Asia/Calcutta   \n",
      "78V83                  Delhi  Asia/Calcutta   \n",
      "7F1D1                  Delhi  Asia/Calcutta   \n",
      "8KNI6                  Delhi  Asia/Calcutta   \n",
      "90BZ1                 Taipei    Asia/Taipei   \n",
      "90S79                  Delhi  Asia/Calcutta   \n",
      "9Q6TA                 Taipei    Asia/Taipei   \n",
      "A2FBI    Los Angeles (SoCAB)      Etc/GMT+8   \n",
      "A7UCQ                  Delhi  Asia/Calcutta   \n",
      "AZJ0Z                  Delhi  Asia/Calcutta   \n",
      "C7PGV                  Delhi  Asia/Calcutta   \n",
      "CPR0W                  Delhi  Asia/Calcutta   \n",
      "D72OT                  Delhi  Asia/Calcutta   \n",
      "D7S1G                  Delhi  Asia/Calcutta   \n",
      "DHO4M    Los Angeles (SoCAB)      Etc/GMT+8   \n",
      "DJN0F    Los Angeles (SoCAB)      Etc/GMT+8   \n",
      "E2AUK                  Delhi  Asia/Calcutta   \n",
      "E5P9N    Los Angeles (SoCAB)      Etc/GMT+8   \n",
      "FRITQ    Los Angeles (SoCAB)      Etc/GMT+8   \n",
      "GAC6R                  Delhi  Asia/Calcutta   \n",
      "GJLB2                  Delhi  Asia/Calcutta   \n",
      "GVQXS                  Delhi  Asia/Calcutta   \n",
      "H96P6    Los Angeles (SoCAB)      Etc/GMT+8   \n",
      "HANW9                  Delhi  Asia/Calcutta   \n",
      "HM74A                  Delhi  Asia/Calcutta   \n",
      "IUMEZ                  Delhi  Asia/Calcutta   \n",
      "KW43U                 Taipei    Asia/Taipei   \n",
      "KZ9W9                  Delhi  Asia/Calcutta   \n",
      "NE7BV                  Delhi  Asia/Calcutta   \n",
      "P8JA5                  Delhi  Asia/Calcutta   \n",
      "PG3MI    Los Angeles (SoCAB)      Etc/GMT+8   \n",
      "PJNW1                  Delhi  Asia/Calcutta   \n",
      "PW0JT                  Delhi  Asia/Calcutta   \n",
      "QJHW4    Los Angeles (SoCAB)      Etc/GMT+8   \n",
      "S77YN                  Delhi  Asia/Calcutta   \n",
      "SZLMT                  Delhi  Asia/Calcutta   \n",
      "UC74Z                  Delhi  Asia/Calcutta   \n",
      "VBLD0    Los Angeles (SoCAB)      Etc/GMT+8   \n",
      "VR4WG                 Taipei    Asia/Taipei   \n",
      "VXNN3                  Delhi  Asia/Calcutta   \n",
      "VYH7U                  Delhi  Asia/Calcutta   \n",
      "WT52R    Los Angeles (SoCAB)      Etc/GMT+8   \n",
      "WZNCR                  Delhi  Asia/Calcutta   \n",
      "X5DKW    Los Angeles (SoCAB)      Etc/GMT+8   \n",
      "XJF9O                 Taipei    Asia/Taipei   \n",
      "XNLVD                 Taipei    Asia/Taipei   \n",
      "YHOPV                  Delhi  Asia/Calcutta   \n",
      "ZF3ZW                  Delhi  Asia/Calcutta   \n",
      "ZP1FZ    Los Angeles (SoCAB)      Etc/GMT+8   \n",
      "ZZ8JF    Los Angeles (SoCAB)      Etc/GMT+8   \n",
      "\n",
      "                                                       wkt  \n",
      "grid_id                                                     \n",
      "1X116    POLYGON ((121.5257644471362 24.97766123020391,...  \n",
      "1Z2W7    POLYGON ((77.30453178416276 28.54664454217707,...  \n",
      "3S31A    POLYGON ((-117.9338248256995 33.79558357488509...  \n",
      "6EIL6    POLYGON ((77.07995296313287 28.54664454217707,...  \n",
      "7334C    POLYGON ((77.12486872733885 28.54664454217707,...  \n",
      "78V83    POLYGON ((76.94520567051495 28.54664454217707,...  \n",
      "7F1D1    POLYGON ((77.12486872733885 28.58609243100243,...  \n",
      "8KNI6    POLYGON ((77.30453178416276 28.46770443564941,...  \n",
      "90BZ1    POLYGON ((121.5706802113421 25.01836939334328,...  \n",
      "90S79    POLYGON ((77.21470025575081 28.62552552598286,...  \n",
      "9Q6TA    POLYGON ((121.5706802113421 25.05906406274214,...  \n",
      "A2FBI    POLYGON ((-117.3948356552278 33.98201108613195...  \n",
      "A7UCQ    POLYGON ((77.25961601995678 28.58609243100243,...  \n",
      "AZJ0Z    POLYGON ((77.25961601995678 28.70434728194878,...  \n",
      "C7PGV    POLYGON ((77.21470025575081 28.50718187266299,...  \n",
      "CPR0W    POLYGON ((77.30453178416276 28.66494381399507,...  \n",
      "D72OT    POLYGON ((77.16978449154482 28.70434728194878,...  \n",
      "D7S1G    POLYGON ((77.34944754836873 28.66494381399507,...  \n",
      "DHO4M    POLYGON ((-118.3380667035533 34.16803061743935...  \n",
      "DJN0F    POLYGON ((-117.6194144762577 34.09367183102137...  \n",
      "E2AUK    POLYGON ((77.0350371989269 28.58609243100243, ...  \n",
      "E5P9N    POLYGON ((-117.4846671836398 33.98201108613195...  \n",
      "FRITQ    POLYGON ((-118.1584036467294 33.83290166381627...  \n",
      "GAC6R    POLYGON ((77.12486872733885 28.74373591678664,...  \n",
      "GJLB2    POLYGON ((77.12486872733885 28.46770443564941,...  \n",
      "GVQXS    POLYGON ((77.21470025575081 28.66494381399507,...  \n",
      "H96P6    POLYGON ((-118.5177297603772 34.16803061743935...  \n",
      "HANW9    POLYGON ((77.21470025575081 28.54664454217707,...  \n",
      "HM74A    POLYGON ((77.12486872733885 28.66494381399507,...  \n",
      "IUMEZ    POLYGON ((77.25961601995678 28.62552552598286,...  \n",
      "KW43U    POLYGON ((121.6155959755481 25.01836939334328,...  \n",
      "KZ9W9    POLYGON ((77.16978449154482 28.62552552598286,...  \n",
      "NE7BV    POLYGON ((77.12486872733885 28.82246863505031,...  \n",
      "P8JA5    POLYGON ((77.25961601995678 28.54664454217707,...  \n",
      "PG3MI    POLYGON ((-118.2033194109354 34.05646791625069...  \n",
      "PJNW1    POLYGON ((77.21470025575081 28.70434728194878,...  \n",
      "PW0JT    POLYGON ((76.94520567051495 28.66494381399507,...  \n",
      "QJHW4    POLYGON ((-118.5177297603772 34.35364110514904...  \n",
      "S77YN    POLYGON ((77.07995296313287 28.70434728194878,...  \n",
      "SZLMT    POLYGON ((77.16978449154482 28.66494381399507,...  \n",
      "UC74Z    POLYGON ((77.30453178416276 28.50718187266299,...  \n",
      "VBLD0    POLYGON ((-118.2033194109354 33.87020346808818...  \n",
      "VR4WG    POLYGON ((121.5257644471362 25.05906406274214,...  \n",
      "VXNN3    POLYGON ((77.16978449154482 28.7831097054843, ...  \n",
      "VYH7U    POLYGON ((77.07995296313287 28.74373591678664,...  \n",
      "WT52R    POLYGON ((-116.8558464847561 33.9074889790035,...  \n",
      "WZNCR    POLYGON ((77.16978449154482 28.54664454217707,...  \n",
      "X5DKW    POLYGON ((-117.5744987120517 34.01924766510738...  \n",
      "XJF9O    POLYGON ((121.5257644471362 25.01836939334328,...  \n",
      "XNLVD    POLYGON ((121.5257644471362 25.09974522235117,...  \n",
      "YHOPV    POLYGON ((77.30453178416276 28.62552552598286,...  \n",
      "ZF3ZW    POLYGON ((77.07995296313287 28.66494381399507,...  \n",
      "ZP1FZ    POLYGON ((-117.8439932972876 34.13085940091023...  \n",
      "ZZ8JF    POLYGON ((-117.3050041268159 33.64614854761477...  \n"
     ]
    }
   ],
   "source": [
    "pm_md = pd.read_csv(\n",
    "    RAW / \"pm25_satellite_metadata.csv\",\n",
    "    parse_dates=[\"time_start\", \"time_end\"],\n",
    "    index_col=0\n",
    ")\n",
    "\n",
    "grid_md = pd.read_csv(\n",
    "    RAW / \"grid_metadata.csv\",\n",
    "    index_col=0\n",
    ")\n",
    "print(pm_md)\n",
    "print(grid_md)"
   ]
  },
  {
   "cell_type": "code",
   "execution_count": 3,
   "id": "05f6d90e",
   "metadata": {},
   "outputs": [
    {
     "data": {
      "text/plain": [
       "Index(['time_start', 'time_end', 'product', 'location', 'split', 'us_url',\n",
       "       'eu_url', 'as_url', 'cksum', 'granule_size'],\n",
       "      dtype='object')"
      ]
     },
     "execution_count": 3,
     "metadata": {},
     "output_type": "execute_result"
    }
   ],
   "source": [
    "pm_md.columns"
   ]
  },
  {
   "cell_type": "code",
   "execution_count": 4,
   "id": "e5397d61",
   "metadata": {},
   "outputs": [
    {
     "data": {
      "text/plain": [
       "train    5048\n",
       "test     2673\n",
       "Name: split, dtype: int64"
      ]
     },
     "execution_count": 4,
     "metadata": {},
     "output_type": "execute_result"
    }
   ],
   "source": [
    "pm_md[\"split\"].value_counts()"
   ]
  },
  {
   "cell_type": "code",
   "execution_count": 5,
   "id": "4d278730",
   "metadata": {},
   "outputs": [
    {
     "data": {
      "text/plain": [
       "maiac    6704\n",
       "misr     1017\n",
       "Name: product, dtype: int64"
      ]
     },
     "execution_count": 5,
     "metadata": {},
     "output_type": "execute_result"
    }
   ],
   "source": [
    "pm_md[\"product\"].value_counts()"
   ]
  },
  {
   "cell_type": "code",
   "execution_count": 6,
   "id": "ae3f32cf",
   "metadata": {},
   "outputs": [
    {
     "data": {
      "text/plain": [
       "(4260, 10)"
      ]
     },
     "execution_count": 6,
     "metadata": {},
     "output_type": "execute_result"
    }
   ],
   "source": [
    "maiac_md = pm_md[(pm_md[\"product\"] == \"maiac\") & (pm_md[\"split\"] == \"train\")].copy()\n",
    "maiac_md.shape"
   ]
  },
  {
   "cell_type": "code",
   "execution_count": 7,
   "id": "30af95c7",
   "metadata": {},
   "outputs": [
    {
     "data": {
      "text/html": [
       "<div>\n",
       "<style scoped>\n",
       "    .dataframe tbody tr th:only-of-type {\n",
       "        vertical-align: middle;\n",
       "    }\n",
       "\n",
       "    .dataframe tbody tr th {\n",
       "        vertical-align: top;\n",
       "    }\n",
       "\n",
       "    .dataframe thead th {\n",
       "        text-align: right;\n",
       "    }\n",
       "</style>\n",
       "<table border=\"1\" class=\"dataframe\">\n",
       "  <thead>\n",
       "    <tr style=\"text-align: right;\">\n",
       "      <th></th>\n",
       "      <th>time_start</th>\n",
       "      <th>time_end</th>\n",
       "      <th>product</th>\n",
       "      <th>location</th>\n",
       "      <th>split</th>\n",
       "      <th>us_url</th>\n",
       "      <th>eu_url</th>\n",
       "      <th>as_url</th>\n",
       "      <th>cksum</th>\n",
       "      <th>granule_size</th>\n",
       "    </tr>\n",
       "    <tr>\n",
       "      <th>granule_id</th>\n",
       "      <th></th>\n",
       "      <th></th>\n",
       "      <th></th>\n",
       "      <th></th>\n",
       "      <th></th>\n",
       "      <th></th>\n",
       "      <th></th>\n",
       "      <th></th>\n",
       "      <th></th>\n",
       "      <th></th>\n",
       "    </tr>\n",
       "  </thead>\n",
       "  <tbody>\n",
       "    <tr>\n",
       "      <th>20180201T191000_maiac_la_0.hdf</th>\n",
       "      <td>2018-02-01 17:25:00+00:00</td>\n",
       "      <td>2018-02-01 19:10:00+00:00</td>\n",
       "      <td>maiac</td>\n",
       "      <td>la</td>\n",
       "      <td>train</td>\n",
       "      <td>s3://drivendata-competition-airathon-public-us...</td>\n",
       "      <td>s3://drivendata-competition-airathon-public-eu...</td>\n",
       "      <td>s3://drivendata-competition-airathon-public-as...</td>\n",
       "      <td>911405771</td>\n",
       "      <td>10446736</td>\n",
       "    </tr>\n",
       "    <tr>\n",
       "      <th>20180202T195000_maiac_la_0.hdf</th>\n",
       "      <td>2018-02-02 18:05:00+00:00</td>\n",
       "      <td>2018-02-02 19:50:00+00:00</td>\n",
       "      <td>maiac</td>\n",
       "      <td>la</td>\n",
       "      <td>train</td>\n",
       "      <td>s3://drivendata-competition-airathon-public-us...</td>\n",
       "      <td>s3://drivendata-competition-airathon-public-eu...</td>\n",
       "      <td>s3://drivendata-competition-airathon-public-as...</td>\n",
       "      <td>2244451908</td>\n",
       "      <td>11090180</td>\n",
       "    </tr>\n",
       "    <tr>\n",
       "      <th>20180203T203000_maiac_la_0.hdf</th>\n",
       "      <td>2018-02-03 17:10:00+00:00</td>\n",
       "      <td>2018-02-03 20:30:00+00:00</td>\n",
       "      <td>maiac</td>\n",
       "      <td>la</td>\n",
       "      <td>train</td>\n",
       "      <td>s3://drivendata-competition-airathon-public-us...</td>\n",
       "      <td>s3://drivendata-competition-airathon-public-eu...</td>\n",
       "      <td>s3://drivendata-competition-airathon-public-as...</td>\n",
       "      <td>3799527997</td>\n",
       "      <td>12468482</td>\n",
       "    </tr>\n",
       "  </tbody>\n",
       "</table>\n",
       "</div>"
      ],
      "text/plain": [
       "                                              time_start  \\\n",
       "granule_id                                                 \n",
       "20180201T191000_maiac_la_0.hdf 2018-02-01 17:25:00+00:00   \n",
       "20180202T195000_maiac_la_0.hdf 2018-02-02 18:05:00+00:00   \n",
       "20180203T203000_maiac_la_0.hdf 2018-02-03 17:10:00+00:00   \n",
       "\n",
       "                                                time_end product location  \\\n",
       "granule_id                                                                  \n",
       "20180201T191000_maiac_la_0.hdf 2018-02-01 19:10:00+00:00   maiac       la   \n",
       "20180202T195000_maiac_la_0.hdf 2018-02-02 19:50:00+00:00   maiac       la   \n",
       "20180203T203000_maiac_la_0.hdf 2018-02-03 20:30:00+00:00   maiac       la   \n",
       "\n",
       "                                split  \\\n",
       "granule_id                              \n",
       "20180201T191000_maiac_la_0.hdf  train   \n",
       "20180202T195000_maiac_la_0.hdf  train   \n",
       "20180203T203000_maiac_la_0.hdf  train   \n",
       "\n",
       "                                                                           us_url  \\\n",
       "granule_id                                                                          \n",
       "20180201T191000_maiac_la_0.hdf  s3://drivendata-competition-airathon-public-us...   \n",
       "20180202T195000_maiac_la_0.hdf  s3://drivendata-competition-airathon-public-us...   \n",
       "20180203T203000_maiac_la_0.hdf  s3://drivendata-competition-airathon-public-us...   \n",
       "\n",
       "                                                                           eu_url  \\\n",
       "granule_id                                                                          \n",
       "20180201T191000_maiac_la_0.hdf  s3://drivendata-competition-airathon-public-eu...   \n",
       "20180202T195000_maiac_la_0.hdf  s3://drivendata-competition-airathon-public-eu...   \n",
       "20180203T203000_maiac_la_0.hdf  s3://drivendata-competition-airathon-public-eu...   \n",
       "\n",
       "                                                                           as_url  \\\n",
       "granule_id                                                                          \n",
       "20180201T191000_maiac_la_0.hdf  s3://drivendata-competition-airathon-public-as...   \n",
       "20180202T195000_maiac_la_0.hdf  s3://drivendata-competition-airathon-public-as...   \n",
       "20180203T203000_maiac_la_0.hdf  s3://drivendata-competition-airathon-public-as...   \n",
       "\n",
       "                                     cksum  granule_size  \n",
       "granule_id                                                \n",
       "20180201T191000_maiac_la_0.hdf   911405771      10446736  \n",
       "20180202T195000_maiac_la_0.hdf  2244451908      11090180  \n",
       "20180203T203000_maiac_la_0.hdf  3799527997      12468482  "
      ]
     },
     "execution_count": 7,
     "metadata": {},
     "output_type": "execute_result"
    }
   ],
   "source": [
    "maiac_md.head(3)"
   ]
  },
  {
   "cell_type": "code",
   "execution_count": 8,
   "id": "fadd08fe",
   "metadata": {},
   "outputs": [
    {
     "data": {
      "text/plain": [
       "tpe    2130\n",
       "la     1065\n",
       "dl     1065\n",
       "Name: location, dtype: int64"
      ]
     },
     "execution_count": 8,
     "metadata": {},
     "output_type": "execute_result"
    }
   ],
   "source": [
    "maiac_md.location.value_counts()"
   ]
  },
  {
   "cell_type": "code",
   "execution_count": 9,
   "id": "ffaeb54b",
   "metadata": {},
   "outputs": [
    {
     "data": {
      "text/plain": [
       "2020    1464\n",
       "2019    1460\n",
       "2018    1336\n",
       "Name: time_end, dtype: int64"
      ]
     },
     "execution_count": 9,
     "metadata": {},
     "output_type": "execute_result"
    }
   ],
   "source": [
    "maiac_md.time_end.dt.year.value_counts()"
   ]
  },
  {
   "cell_type": "code",
   "execution_count": 10,
   "id": "388dda03",
   "metadata": {},
   "outputs": [
    {
     "data": {
      "text/plain": [
       "1     248\n",
       "2     340\n",
       "3     372\n",
       "4     360\n",
       "5     372\n",
       "6     360\n",
       "7     372\n",
       "8     372\n",
       "9     360\n",
       "10    372\n",
       "11    360\n",
       "12    372\n",
       "Name: time_end, dtype: int64"
      ]
     },
     "execution_count": 10,
     "metadata": {},
     "output_type": "execute_result"
    }
   ],
   "source": [
    "maiac_md.time_end.dt.month.value_counts().sort_index()"
   ]
  },
  {
   "cell_type": "code",
   "execution_count": 11,
   "id": "72bf891f",
   "metadata": {},
   "outputs": [
    {
     "data": {
      "text/plain": [
       "count                         4260\n",
       "mean     0 days 01:27:16.549295774\n",
       "std      0 days 00:55:30.276180728\n",
       "min                0 days 00:05:00\n",
       "25%                0 days 00:10:00\n",
       "50%                0 days 01:45:00\n",
       "75%                0 days 01:45:00\n",
       "max                0 days 14:20:00\n",
       "dtype: object"
      ]
     },
     "execution_count": 11,
     "metadata": {},
     "output_type": "execute_result"
    }
   ],
   "source": [
    "(maiac_md.time_end - maiac_md.time_start).describe()"
   ]
  },
  {
   "cell_type": "code",
   "execution_count": 12,
   "id": "2cb5a189",
   "metadata": {},
   "outputs": [
    {
     "data": {
      "text/html": [
       "<div>\n",
       "<style scoped>\n",
       "    .dataframe tbody tr th:only-of-type {\n",
       "        vertical-align: middle;\n",
       "    }\n",
       "\n",
       "    .dataframe tbody tr th {\n",
       "        vertical-align: top;\n",
       "    }\n",
       "\n",
       "    .dataframe thead th {\n",
       "        text-align: right;\n",
       "    }\n",
       "</style>\n",
       "<table border=\"1\" class=\"dataframe\">\n",
       "  <thead>\n",
       "    <tr style=\"text-align: right;\">\n",
       "      <th></th>\n",
       "      <th>location</th>\n",
       "      <th>tz</th>\n",
       "      <th>wkt</th>\n",
       "    </tr>\n",
       "    <tr>\n",
       "      <th>grid_id</th>\n",
       "      <th></th>\n",
       "      <th></th>\n",
       "      <th></th>\n",
       "    </tr>\n",
       "  </thead>\n",
       "  <tbody>\n",
       "    <tr>\n",
       "      <th>1X116</th>\n",
       "      <td>Taipei</td>\n",
       "      <td>Asia/Taipei</td>\n",
       "      <td>POLYGON ((121.5257644471362 24.97766123020391,...</td>\n",
       "    </tr>\n",
       "    <tr>\n",
       "      <th>1Z2W7</th>\n",
       "      <td>Delhi</td>\n",
       "      <td>Asia/Calcutta</td>\n",
       "      <td>POLYGON ((77.30453178416276 28.54664454217707,...</td>\n",
       "    </tr>\n",
       "    <tr>\n",
       "      <th>3S31A</th>\n",
       "      <td>Los Angeles (SoCAB)</td>\n",
       "      <td>Etc/GMT+8</td>\n",
       "      <td>POLYGON ((-117.9338248256995 33.79558357488509...</td>\n",
       "    </tr>\n",
       "  </tbody>\n",
       "</table>\n",
       "</div>"
      ],
      "text/plain": [
       "                    location             tz  \\\n",
       "grid_id                                       \n",
       "1X116                 Taipei    Asia/Taipei   \n",
       "1Z2W7                  Delhi  Asia/Calcutta   \n",
       "3S31A    Los Angeles (SoCAB)      Etc/GMT+8   \n",
       "\n",
       "                                                       wkt  \n",
       "grid_id                                                     \n",
       "1X116    POLYGON ((121.5257644471362 24.97766123020391,...  \n",
       "1Z2W7    POLYGON ((77.30453178416276 28.54664454217707,...  \n",
       "3S31A    POLYGON ((-117.9338248256995 33.79558357488509...  "
      ]
     },
     "execution_count": 12,
     "metadata": {},
     "output_type": "execute_result"
    }
   ],
   "source": [
    "grid_md.head(3)"
   ]
  },
  {
   "cell_type": "code",
   "execution_count": 13,
   "id": "7468ff3e",
   "metadata": {},
   "outputs": [
    {
     "data": {
      "text/plain": [
       "(54, 3)"
      ]
     },
     "execution_count": 13,
     "metadata": {},
     "output_type": "execute_result"
    }
   ],
   "source": [
    "grid_md.shape"
   ]
  },
  {
   "cell_type": "code",
   "execution_count": 14,
   "id": "1fac2f4d",
   "metadata": {},
   "outputs": [
    {
     "data": {
      "text/plain": [
       "Delhi                  33\n",
       "Los Angeles (SoCAB)    14\n",
       "Taipei                  7\n",
       "Name: location, dtype: int64"
      ]
     },
     "execution_count": 14,
     "metadata": {},
     "output_type": "execute_result"
    }
   ],
   "source": [
    "grid_md.location.value_counts()"
   ]
  },
  {
   "cell_type": "code",
   "execution_count": 51,
   "id": "6890cbe0",
   "metadata": {},
   "outputs": [
    {
     "name": "stdout",
     "output_type": "stream",
     "text": [
      "time_start                              2018-02-01 17:25:00+00:00\n",
      "time_end                                2018-02-01 19:10:00+00:00\n",
      "product                                                     maiac\n",
      "location                                                       la\n",
      "split                                                       train\n",
      "us_url          s3://drivendata-competition-airathon-public-us...\n",
      "eu_url          s3://drivendata-competition-airathon-public-eu...\n",
      "as_url          s3://drivendata-competition-airathon-public-as...\n",
      "cksum                                                   911405771\n",
      "granule_size                                             10446736\n",
      "Name: 20180201T191000_maiac_la_0.hdf, dtype: object\n",
      "\n",
      "train/maiac/2018/20180201T191000_maiac_la_0.hdf\n"
     ]
    }
   ],
   "source": [
    "la_file = maiac_md[maiac_md.location == \"la\"].iloc[0]\n",
    "print(la_file)\n",
    "print()\n",
    "la_file_path = str(la_file['split']) + \"/\" + str(la_file['product']) + \"/\" + str(la_file['time_start'].year) + \"/\" + str(la_file.name)\n",
    "print(la_file_path)"
   ]
  },
  {
   "cell_type": "code",
   "execution_count": 52,
   "id": "5ea36900",
   "metadata": {},
   "outputs": [
    {
     "name": "stdout",
     "output_type": "stream",
     "text": [
      "(13, 8)\n"
     ]
    }
   ],
   "source": [
    "file = SD(la_file_path, SDC.READ)\n",
    "\n",
    "print(file.info())"
   ]
  },
  {
   "cell_type": "code",
   "execution_count": null,
   "id": "5e2c6fda",
   "metadata": {},
   "outputs": [],
   "source": []
  }
 ],
 "metadata": {
  "kernelspec": {
   "display_name": "nasa",
   "language": "python",
   "name": "nasa"
  },
  "language_info": {
   "codemirror_mode": {
    "name": "ipython",
    "version": 3
   },
   "file_extension": ".py",
   "mimetype": "text/x-python",
   "name": "python",
   "nbconvert_exporter": "python",
   "pygments_lexer": "ipython3",
   "version": "3.10.2"
  }
 },
 "nbformat": 4,
 "nbformat_minor": 5
}
